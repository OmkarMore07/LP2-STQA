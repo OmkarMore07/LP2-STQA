{
 "cells": [
  {
   "cell_type": "code",
   "execution_count": 1,
   "id": "e191f674",
   "metadata": {},
   "outputs": [],
   "source": [
    "from selenium import webdriver\n",
    "from selenium.webdriver.common.keys import Keys\n",
    "from selenium.webdriver.support import expected_conditions as EC\n",
    "from selenium.webdriver.common.by import By\n",
    "from selenium.webdriver.support.wait import WebDriverWait\n",
    "import time"
   ]
  },
  {
   "cell_type": "code",
   "execution_count": 2,
   "id": "8d3f8d11",
   "metadata": {},
   "outputs": [],
   "source": [
    "drive = webdriver.Chrome()\n",
    "drive.get(\"https://linkedin.com\")"
   ]
  },
  {
   "cell_type": "code",
   "execution_count": 3,
   "id": "e5bf5a28",
   "metadata": {},
   "outputs": [],
   "source": [
    "time.sleep(2)\n",
    "\n",
    "username = drive.find_element_by_xpath(\"//input[@name='session_key']\")\n",
    "password = drive.find_element_by_xpath(\"//input[@name='session_password']\")\n",
    "\n",
    "username.send_keys(\"your email\")\n",
    "# -\n",
    "# -\n",
    "# -\n",
    "# -\n",
    "# -\n",
    "# -\n",
    "# -\n",
    "# -\n",
    "# -\n",
    "# -\n",
    "# -\n",
    "# -\n",
    "# -\n",
    "# -\n",
    "# -\n",
    "password.send_keys(\"password\")\n",
    "# -\n",
    "# -\n",
    "# -\n",
    "# -\n",
    "# -\n",
    "# -\n",
    "# -\n",
    "# -\n",
    "# -\n",
    "# -\n",
    "time.sleep(2)\n",
    "\n",
    "submit = drive.find_element_by_xpath(\"//button[@type='submit']\").click()\n",
    "time.sleep(2)"
   ]
  },
  {
   "cell_type": "code",
   "execution_count": 4,
   "id": "70fc92b3",
   "metadata": {},
   "outputs": [],
   "source": [
    "drive.get(\"https://www.linkedin.com/search/results/people/?network=%5B%22F%22%5D&origin=FACETED_SEARCH&sid=0xq\")\n",
    "time.sleep(2)\n",
    "\n",
    "all_buttons = drive.find_elements_by_tag_name(\"button\")\n",
    "message_buttons = [btn for btn in all_buttons if btn.text == \"Message\"]\n",
    "\n",
    "message_buttons[1].click()\n",
    "time.sleep(2)\n",
    "main_div = drive.find_element_by_xpath(\"//div[starts-with(@class, 'msg-form__msg-content-container')]\")\n",
    "main_div.click()\n",
    "\n",
    "paragraphs = drive.find_elements_by_tag_name(\"p\")\n",
    "paragraphs[-5].send_keys(\"texting message, this message is send by the linkedin bot made using selenium. ho gaya project.\")\n",
    "\n",
    "time.sleep(2)\n",
    "\n",
    "# submit = drive.find_element_by_xpath(\"//button[@type='submit']\").click()\n",
    "\n",
    "# drive.close()"
   ]
  }
 ],
 "metadata": {
  "kernelspec": {
   "display_name": "Python 3 (ipykernel)",
   "language": "python",
   "name": "python3"
  },
  "language_info": {
   "codemirror_mode": {
    "name": "ipython",
    "version": 3
   },
   "file_extension": ".py",
   "mimetype": "text/x-python",
   "name": "python",
   "nbconvert_exporter": "python",
   "pygments_lexer": "ipython3",
   "version": "3.8.11"
  }
 },
 "nbformat": 4,
 "nbformat_minor": 5
}
