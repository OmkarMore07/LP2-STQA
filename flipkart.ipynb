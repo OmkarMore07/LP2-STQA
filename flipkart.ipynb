{
 "cells": [
  {
   "cell_type": "code",
   "execution_count": 1,
   "id": "776cf297",
   "metadata": {},
   "outputs": [],
   "source": [
    "from selenium import webdriver\n",
    "from selenium.webdriver.common.keys import Keys\n",
    "from selenium.webdriver.support import expected_conditions as EC\n",
    "from selenium.webdriver.common.by import By\n",
    "from selenium.webdriver.support.wait import WebDriverWait\n",
    "import time "
   ]
  },
  {
   "cell_type": "code",
   "execution_count": 2,
   "id": "29c79211",
   "metadata": {},
   "outputs": [],
   "source": [
    "drive = webdriver.Chrome()\n",
    "drive.get(\"https://flipkart.com\")"
   ]
  },
  {
   "cell_type": "code",
   "execution_count": 3,
   "id": "43e4063c",
   "metadata": {},
   "outputs": [
    {
     "name": "stdout",
     "output_type": "stream",
     "text": [
      "Test Case Pass\n"
     ]
    }
   ],
   "source": [
    "time.sleep(2)\n",
    "username = drive.find_element_by_xpath(\"//input[@class='_2IX_2- VJZDxU']\")\n",
    "password = drive.find_element_by_xpath(\"//input[@class='_2IX_2- _3mctLh VJZDxU']\")\n",
    "\n",
    "username.send_keys(\"ypur email or mobile number\")\n",
    "password.send_keys(\"password\")\n",
    "\n",
    "time.sleep(2)\n",
    "\n",
    "submit = drive.find_element_by_xpath(\"//button[@class='_2KpZ6l _2HKlqd _3AWRsL']\").click()\n",
    "time.sleep(2)\n",
    "\n",
    "main_div = drive.find_element_by_xpath(\"//div[starts-with(@class, 'exehdJ')]\")\n",
    "\n",
    "if(main_div.text == 'More'):\n",
    "    print(\"Test Case Fail\")\n",
    "else :\n",
    "    print(\"Test Case Pass\")\n",
    "# drive.close() "
   ]
  }
 ],
 "metadata": {
  "kernelspec": {
   "display_name": "Python 3 (ipykernel)",
   "language": "python",
   "name": "python3"
  },
  "language_info": {
   "codemirror_mode": {
    "name": "ipython",
    "version": 3
   },
   "file_extension": ".py",
   "mimetype": "text/x-python",
   "name": "python",
   "nbconvert_exporter": "python",
   "pygments_lexer": "ipython3",
   "version": "3.8.11"
  }
 },
 "nbformat": 4,
 "nbformat_minor": 5
}
